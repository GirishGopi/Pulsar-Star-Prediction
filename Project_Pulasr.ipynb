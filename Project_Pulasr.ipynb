{
  "cells": [
    {
      "cell_type": "code",
      "execution_count": 26,
      "metadata": {
        "id": "VARs2TWqcg-9"
      },
      "outputs": [],
      "source": [
        "#Importing packages\n",
        "import pandas as pd\n",
        "import seaborn as sns\n",
        "import matplotlib.pyplot as plt\n",
        "from sklearn.model_selection import train_test_split,GridSearchCV\n",
        "from sklearn.metrics import classification_report,accuracy_score\n",
        "import matplotlib.pyplot as plt\n",
        "from sklearn.preprocessing import StandardScaler\n",
        "from sklearn.neighbors import KNeighborsClassifier\n",
        "from sklearn.svm import SVC\n",
        "from sklearn.naive_bayes import GaussianNB\n",
        "from sklearn.tree import DecisionTreeClassifier\n",
        "from sklearn.ensemble import RandomForestClassifier\n",
        "from sklearn.ensemble import AdaBoostClassifier\n",
        "from imblearn.combine import SMOTEENN\n",
        "import warnings"
      ]
    },
    {
      "cell_type": "code",
      "execution_count": 27,
      "metadata": {
        "id": "qGmg961qpUcr"
      },
      "outputs": [],
      "source": [
        "#Ignoring warnings\n",
        "warnings.filterwarnings('ignore')"
      ]
    },
    {
      "cell_type": "code",
      "execution_count": 28,
      "metadata": {
        "colab": {
          "base_uri": "https://localhost:8080/",
          "height": 206
        },
        "id": "sEzixKhhI0xG",
        "outputId": "af785334-98c9-4425-8c4d-9c96adf6329d"
      },
      "outputs": [
        {
          "output_type": "execute_result",
          "data": {
            "text/plain": [
              "   Mean_Integrated         SD        EK  Skewness  Mean_DMSNR_Curve  \\\n",
              "0       140.562500  55.683782 -0.234571 -0.699648          3.199833   \n",
              "1       102.507812  58.882430  0.465318 -0.515088          1.677258   \n",
              "2       103.015625  39.341649  0.323328  1.051164          3.121237   \n",
              "3       136.750000  57.178449 -0.068415 -0.636238          3.642977   \n",
              "4        88.726562  40.672225  0.600866  1.123492          1.178930   \n",
              "\n",
              "   SD_DMSNR_Curve  EK_DMSNR_Curve  Skewness_DMSNR_Curve  Class  \n",
              "0       19.110426        7.975532             74.242225      0  \n",
              "1       14.860146       10.576487            127.393580      0  \n",
              "2       21.744669        7.735822             63.171909      0  \n",
              "3       20.959280        6.896499             53.593661      0  \n",
              "4       11.468720       14.269573            252.567306      0  "
            ],
            "text/html": [
              "\n",
              "\n",
              "  <div id=\"df-be6f9b3e-4648-4118-a90f-d7618ac53bcd\">\n",
              "    <div class=\"colab-df-container\">\n",
              "      <div>\n",
              "<style scoped>\n",
              "    .dataframe tbody tr th:only-of-type {\n",
              "        vertical-align: middle;\n",
              "    }\n",
              "\n",
              "    .dataframe tbody tr th {\n",
              "        vertical-align: top;\n",
              "    }\n",
              "\n",
              "    .dataframe thead th {\n",
              "        text-align: right;\n",
              "    }\n",
              "</style>\n",
              "<table border=\"1\" class=\"dataframe\">\n",
              "  <thead>\n",
              "    <tr style=\"text-align: right;\">\n",
              "      <th></th>\n",
              "      <th>Mean_Integrated</th>\n",
              "      <th>SD</th>\n",
              "      <th>EK</th>\n",
              "      <th>Skewness</th>\n",
              "      <th>Mean_DMSNR_Curve</th>\n",
              "      <th>SD_DMSNR_Curve</th>\n",
              "      <th>EK_DMSNR_Curve</th>\n",
              "      <th>Skewness_DMSNR_Curve</th>\n",
              "      <th>Class</th>\n",
              "    </tr>\n",
              "  </thead>\n",
              "  <tbody>\n",
              "    <tr>\n",
              "      <th>0</th>\n",
              "      <td>140.562500</td>\n",
              "      <td>55.683782</td>\n",
              "      <td>-0.234571</td>\n",
              "      <td>-0.699648</td>\n",
              "      <td>3.199833</td>\n",
              "      <td>19.110426</td>\n",
              "      <td>7.975532</td>\n",
              "      <td>74.242225</td>\n",
              "      <td>0</td>\n",
              "    </tr>\n",
              "    <tr>\n",
              "      <th>1</th>\n",
              "      <td>102.507812</td>\n",
              "      <td>58.882430</td>\n",
              "      <td>0.465318</td>\n",
              "      <td>-0.515088</td>\n",
              "      <td>1.677258</td>\n",
              "      <td>14.860146</td>\n",
              "      <td>10.576487</td>\n",
              "      <td>127.393580</td>\n",
              "      <td>0</td>\n",
              "    </tr>\n",
              "    <tr>\n",
              "      <th>2</th>\n",
              "      <td>103.015625</td>\n",
              "      <td>39.341649</td>\n",
              "      <td>0.323328</td>\n",
              "      <td>1.051164</td>\n",
              "      <td>3.121237</td>\n",
              "      <td>21.744669</td>\n",
              "      <td>7.735822</td>\n",
              "      <td>63.171909</td>\n",
              "      <td>0</td>\n",
              "    </tr>\n",
              "    <tr>\n",
              "      <th>3</th>\n",
              "      <td>136.750000</td>\n",
              "      <td>57.178449</td>\n",
              "      <td>-0.068415</td>\n",
              "      <td>-0.636238</td>\n",
              "      <td>3.642977</td>\n",
              "      <td>20.959280</td>\n",
              "      <td>6.896499</td>\n",
              "      <td>53.593661</td>\n",
              "      <td>0</td>\n",
              "    </tr>\n",
              "    <tr>\n",
              "      <th>4</th>\n",
              "      <td>88.726562</td>\n",
              "      <td>40.672225</td>\n",
              "      <td>0.600866</td>\n",
              "      <td>1.123492</td>\n",
              "      <td>1.178930</td>\n",
              "      <td>11.468720</td>\n",
              "      <td>14.269573</td>\n",
              "      <td>252.567306</td>\n",
              "      <td>0</td>\n",
              "    </tr>\n",
              "  </tbody>\n",
              "</table>\n",
              "</div>\n",
              "      <button class=\"colab-df-convert\" onclick=\"convertToInteractive('df-be6f9b3e-4648-4118-a90f-d7618ac53bcd')\"\n",
              "              title=\"Convert this dataframe to an interactive table.\"\n",
              "              style=\"display:none;\">\n",
              "\n",
              "  <svg xmlns=\"http://www.w3.org/2000/svg\" height=\"24px\"viewBox=\"0 0 24 24\"\n",
              "       width=\"24px\">\n",
              "    <path d=\"M0 0h24v24H0V0z\" fill=\"none\"/>\n",
              "    <path d=\"M18.56 5.44l.94 2.06.94-2.06 2.06-.94-2.06-.94-.94-2.06-.94 2.06-2.06.94zm-11 1L8.5 8.5l.94-2.06 2.06-.94-2.06-.94L8.5 2.5l-.94 2.06-2.06.94zm10 10l.94 2.06.94-2.06 2.06-.94-2.06-.94-.94-2.06-.94 2.06-2.06.94z\"/><path d=\"M17.41 7.96l-1.37-1.37c-.4-.4-.92-.59-1.43-.59-.52 0-1.04.2-1.43.59L10.3 9.45l-7.72 7.72c-.78.78-.78 2.05 0 2.83L4 21.41c.39.39.9.59 1.41.59.51 0 1.02-.2 1.41-.59l7.78-7.78 2.81-2.81c.8-.78.8-2.07 0-2.86zM5.41 20L4 18.59l7.72-7.72 1.47 1.35L5.41 20z\"/>\n",
              "  </svg>\n",
              "      </button>\n",
              "\n",
              "\n",
              "\n",
              "    <div id=\"df-33591906-5d58-453f-95d9-8745981a7537\">\n",
              "      <button class=\"colab-df-quickchart\" onclick=\"quickchart('df-33591906-5d58-453f-95d9-8745981a7537')\"\n",
              "              title=\"Suggest charts.\"\n",
              "              style=\"display:none;\">\n",
              "\n",
              "<svg xmlns=\"http://www.w3.org/2000/svg\" height=\"24px\"viewBox=\"0 0 24 24\"\n",
              "     width=\"24px\">\n",
              "    <g>\n",
              "        <path d=\"M19 3H5c-1.1 0-2 .9-2 2v14c0 1.1.9 2 2 2h14c1.1 0 2-.9 2-2V5c0-1.1-.9-2-2-2zM9 17H7v-7h2v7zm4 0h-2V7h2v10zm4 0h-2v-4h2v4z\"/>\n",
              "    </g>\n",
              "</svg>\n",
              "      </button>\n",
              "    </div>\n",
              "\n",
              "<style>\n",
              "  .colab-df-quickchart {\n",
              "    background-color: #E8F0FE;\n",
              "    border: none;\n",
              "    border-radius: 50%;\n",
              "    cursor: pointer;\n",
              "    display: none;\n",
              "    fill: #1967D2;\n",
              "    height: 32px;\n",
              "    padding: 0 0 0 0;\n",
              "    width: 32px;\n",
              "  }\n",
              "\n",
              "  .colab-df-quickchart:hover {\n",
              "    background-color: #E2EBFA;\n",
              "    box-shadow: 0px 1px 2px rgba(60, 64, 67, 0.3), 0px 1px 3px 1px rgba(60, 64, 67, 0.15);\n",
              "    fill: #174EA6;\n",
              "  }\n",
              "\n",
              "  [theme=dark] .colab-df-quickchart {\n",
              "    background-color: #3B4455;\n",
              "    fill: #D2E3FC;\n",
              "  }\n",
              "\n",
              "  [theme=dark] .colab-df-quickchart:hover {\n",
              "    background-color: #434B5C;\n",
              "    box-shadow: 0px 1px 3px 1px rgba(0, 0, 0, 0.15);\n",
              "    filter: drop-shadow(0px 1px 2px rgba(0, 0, 0, 0.3));\n",
              "    fill: #FFFFFF;\n",
              "  }\n",
              "</style>\n",
              "\n",
              "    <script>\n",
              "      async function quickchart(key) {\n",
              "        const containerElement = document.querySelector('#' + key);\n",
              "        const charts = await google.colab.kernel.invokeFunction(\n",
              "            'suggestCharts', [key], {});\n",
              "      }\n",
              "    </script>\n",
              "\n",
              "      <script>\n",
              "\n",
              "function displayQuickchartButton(domScope) {\n",
              "  let quickchartButtonEl =\n",
              "    domScope.querySelector('#df-33591906-5d58-453f-95d9-8745981a7537 button.colab-df-quickchart');\n",
              "  quickchartButtonEl.style.display =\n",
              "    google.colab.kernel.accessAllowed ? 'block' : 'none';\n",
              "}\n",
              "\n",
              "        displayQuickchartButton(document);\n",
              "      </script>\n",
              "      <style>\n",
              "    .colab-df-container {\n",
              "      display:flex;\n",
              "      flex-wrap:wrap;\n",
              "      gap: 12px;\n",
              "    }\n",
              "\n",
              "    .colab-df-convert {\n",
              "      background-color: #E8F0FE;\n",
              "      border: none;\n",
              "      border-radius: 50%;\n",
              "      cursor: pointer;\n",
              "      display: none;\n",
              "      fill: #1967D2;\n",
              "      height: 32px;\n",
              "      padding: 0 0 0 0;\n",
              "      width: 32px;\n",
              "    }\n",
              "\n",
              "    .colab-df-convert:hover {\n",
              "      background-color: #E2EBFA;\n",
              "      box-shadow: 0px 1px 2px rgba(60, 64, 67, 0.3), 0px 1px 3px 1px rgba(60, 64, 67, 0.15);\n",
              "      fill: #174EA6;\n",
              "    }\n",
              "\n",
              "    [theme=dark] .colab-df-convert {\n",
              "      background-color: #3B4455;\n",
              "      fill: #D2E3FC;\n",
              "    }\n",
              "\n",
              "    [theme=dark] .colab-df-convert:hover {\n",
              "      background-color: #434B5C;\n",
              "      box-shadow: 0px 1px 3px 1px rgba(0, 0, 0, 0.15);\n",
              "      filter: drop-shadow(0px 1px 2px rgba(0, 0, 0, 0.3));\n",
              "      fill: #FFFFFF;\n",
              "    }\n",
              "  </style>\n",
              "\n",
              "      <script>\n",
              "        const buttonEl =\n",
              "          document.querySelector('#df-be6f9b3e-4648-4118-a90f-d7618ac53bcd button.colab-df-convert');\n",
              "        buttonEl.style.display =\n",
              "          google.colab.kernel.accessAllowed ? 'block' : 'none';\n",
              "\n",
              "        async function convertToInteractive(key) {\n",
              "          const element = document.querySelector('#df-be6f9b3e-4648-4118-a90f-d7618ac53bcd');\n",
              "          const dataTable =\n",
              "            await google.colab.kernel.invokeFunction('convertToInteractive',\n",
              "                                                     [key], {});\n",
              "          if (!dataTable) return;\n",
              "\n",
              "          const docLinkHtml = 'Like what you see? Visit the ' +\n",
              "            '<a target=\"_blank\" href=https://colab.research.google.com/notebooks/data_table.ipynb>data table notebook</a>'\n",
              "            + ' to learn more about interactive tables.';\n",
              "          element.innerHTML = '';\n",
              "          dataTable['output_type'] = 'display_data';\n",
              "          await google.colab.output.renderOutput(dataTable, element);\n",
              "          const docLink = document.createElement('div');\n",
              "          docLink.innerHTML = docLinkHtml;\n",
              "          element.appendChild(docLink);\n",
              "        }\n",
              "      </script>\n",
              "    </div>\n",
              "  </div>\n"
            ]
          },
          "metadata": {},
          "execution_count": 28
        }
      ],
      "source": [
        "#Reading the dataset\n",
        "df=pd.read_csv(\"/content/drive/MyDrive/Dataset/Pulsar.csv\")\n",
        "df.head()"
      ]
    },
    {
      "cell_type": "code",
      "execution_count": 29,
      "metadata": {
        "id": "9s7cx0jeGUPH"
      },
      "outputs": [],
      "source": [
        "#Dropping duplicate entries if any\n",
        "df.drop_duplicates(inplace=True)"
      ]
    },
    {
      "cell_type": "code",
      "execution_count": 30,
      "metadata": {
        "colab": {
          "base_uri": "https://localhost:8080/"
        },
        "id": "H79CJ5VGcnoX",
        "outputId": "94db2cc7-648a-42b1-d677-a77ad97ba38a"
      },
      "outputs": [
        {
          "output_type": "execute_result",
          "data": {
            "text/plain": [
              "Mean_Integrated         0\n",
              "SD                      0\n",
              "EK                      0\n",
              "Skewness                0\n",
              "Mean_DMSNR_Curve        0\n",
              "SD_DMSNR_Curve          0\n",
              "EK_DMSNR_Curve          0\n",
              "Skewness_DMSNR_Curve    0\n",
              "Class                   0\n",
              "dtype: int64"
            ]
          },
          "metadata": {},
          "execution_count": 30
        }
      ],
      "source": [
        "#Checking whether the dataset has any null values.\n",
        "df.isna().sum()"
      ]
    },
    {
      "cell_type": "code",
      "execution_count": 31,
      "metadata": {
        "colab": {
          "base_uri": "https://localhost:8080/"
        },
        "id": "pCuHBU9nenh4",
        "outputId": "6a21890d-eb5a-4a3c-ca2f-3de13540486d"
      },
      "outputs": [
        {
          "output_type": "execute_result",
          "data": {
            "text/plain": [
              "Mean_Integrated         float64\n",
              "SD                      float64\n",
              "EK                      float64\n",
              "Skewness                float64\n",
              "Mean_DMSNR_Curve        float64\n",
              "SD_DMSNR_Curve          float64\n",
              "EK_DMSNR_Curve          float64\n",
              "Skewness_DMSNR_Curve    float64\n",
              "Class                     int64\n",
              "dtype: object"
            ]
          },
          "metadata": {},
          "execution_count": 31
        }
      ],
      "source": [
        "# Understanding the datatypes of the columns.\n",
        "df.dtypes"
      ]
    },
    {
      "cell_type": "code",
      "execution_count": 32,
      "metadata": {
        "colab": {
          "base_uri": "https://localhost:8080/",
          "height": 478
        },
        "id": "V_FwTsxmlDNe",
        "outputId": "84d07838-e5e5-4c17-a505-6f8ff779308c"
      },
      "outputs": [
        {
          "output_type": "display_data",
          "data": {
            "text/plain": [
              "<Figure size 640x480 with 4 Axes>"
            ],
            "image/png": "[encoded data removed]"
          },
          "metadata": {}
        }
      ],
      "source": [
        "#Visualizing the values of the Integrated Profile\n",
        "plt.subplot(3,2,1)\n",
        "plt.title(\"Mean Integrated\")\n",
        "plt.hist(x=df[\"Mean_Integrated\"])\n",
        "plt.subplot(3,2,2)\n",
        "plt.title(\"Integrated SD\")\n",
        "plt.hist(x=df[\"SD\"])\n",
        "plt.subplot(3,2,5)\n",
        "plt.title(\"Integrated EK\")\n",
        "plt.hist(x=df[\"EK\"])\n",
        "plt.subplot(3,2,6)\n",
        "plt.title(\"Integrated Skewness\")\n",
        "plt.hist(x=df[\"Skewness\"])\n",
        "plt.suptitle(\"Integrated Profile values\")\n",
        "\n",
        "plt.show()\n"
      ]
    },
    {
      "cell_type": "code",
      "execution_count": 33,
      "metadata": {
        "colab": {
          "base_uri": "https://localhost:8080/",
          "height": 478
        },
        "id": "jCrMWlIAUAKL",
        "outputId": "a62ff684-3411-4318-a60e-fae8cf05c431"
      },
      "outputs": [
        {
          "output_type": "display_data",
          "data": {
            "text/plain": [
              "<Figure size 640x480 with 4 Axes>"
            ],
            "image/png": "[encoded data removed]"
          },
          "metadata": {}
        }
      ],
      "source": [
        "#Visualizing the values of the DM-SNR Curve\n",
        "plt.subplot(3,2,1)\n",
        "plt.title(\"Mean of DM-SNR Curve\")\n",
        "plt.hist(x=df[\"Mean_DMSNR_Curve\"])\n",
        "plt.subplot(3,2,2)\n",
        "plt.title(\"SD of DM-SNR Curve\")\n",
        "plt.hist(x=df[\"SD_DMSNR_Curve\"])\n",
        "plt.subplot(3,2,5)\n",
        "plt.title(\"EK of DM-SNR Curve\")\n",
        "plt.hist(x=df[\"EK_DMSNR_Curve\"])\n",
        "plt.subplot(3,2,6)\n",
        "plt.title(\"Skewness of DM-SNR Curve\")\n",
        "plt.hist(x=df[\"Skewness_DMSNR_Curve\"])\n",
        "plt.suptitle(\"DM-SNR Crve values\")\n",
        "plt.show()"
      ]
    },
    {
      "cell_type": "code",
      "execution_count": 34,
      "metadata": {
        "colab": {
          "base_uri": "https://localhost:8080/",
          "height": 428
        },
        "id": "NpH9LsLQVhJP",
        "outputId": "e2565b7b-e4b8-4c8a-f2a8-9f4a47a58305"
      },
      "outputs": [
        {
          "output_type": "display_data",
          "data": {
            "text/plain": [
              "<Figure size 640x480 with 1 Axes>"
            ],
            "image/png": "[encoded data removed]"
          },
          "metadata": {}
        }
      ],
      "source": [
        "#Visualizing the values of 'Class' to determine the imbalancy of the dataset.\n",
        "plt.title(\"Prediction Class\")\n",
        "plt.pie(df[\"Class\"].value_counts(),labels=[\"0\",\"1\"])\n",
        "plt.show()\n"
      ]
    },
    {
      "cell_type": "markdown",
      "metadata": {
        "id": "mha1EZ0sWmXl"
      },
      "source": [
        "It is clear that the dataset is highly imbalanced in which 0, corresponding to 'Negative', occurs the most."
      ]
    },
    {
      "cell_type": "code",
      "execution_count": 35,
      "metadata": {
        "colab": {
          "base_uri": "https://localhost:8080/",
          "height": 613
        },
        "id": "Q7PylUocMCfn",
        "outputId": "f6127fa3-9bb3-4563-fa17-6da8b8f819d9"
      },
      "outputs": [
        {
          "output_type": "execute_result",
          "data": {
            "text/plain": [
              "<Axes: >"
            ]
          },
          "metadata": {},
          "execution_count": 35
        },
        {
          "output_type": "display_data",
          "data": {
            "text/plain": [
              "<Figure size 640x480 with 2 Axes>"
            ],
            "image/png": "[encoded data removed]"
          },
          "metadata": {}
        }
      ],
      "source": [
        "# Generating the heat map of the correlation of the columns of the dataset.\n",
        "sns.heatmap(df.corr(),annot=True)"
      ]
    },
    {
      "cell_type": "markdown",
      "metadata": {
        "id": "Y3wUvuaTk5Un"
      },
      "source": [
        "It may be observed that almost all the attributes are actually correlated with the prediction class. So, all the features have to be considered.\n",
        "Alos, since there is only eight features, no dimensionality reduction is required."
      ]
    },
    {
      "cell_type": "code",
      "execution_count": 36,
      "metadata": {
        "id": "fc0EtkDca3fG"
      },
      "outputs": [],
      "source": [
        "#Splitting the dataset into attributes and label class.\n",
        "X=df.iloc[:,:-1]\n",
        "y=df.iloc[:,-1]"
      ]
    },
    {
      "cell_type": "code",
      "execution_count": 37,
      "metadata": {
        "id": "nEHx_6uCciB5"
      },
      "outputs": [],
      "source": [
        "#Scaling X values\n",
        "sc=StandardScaler()\n",
        "X=sc.fit_transform(X)"
      ]
    },
    {
      "cell_type": "code",
      "execution_count": 38,
      "metadata": {
        "id": "yW_qdr5jbO6s"
      },
      "outputs": [],
      "source": [
        "#Splitting the data into train data and test data\n",
        "X_train,X_test,y_train,y_test=train_test_split(X,y,random_state=1,test_size=0.3)"
      ]
    },
    {
      "cell_type": "code",
      "execution_count": 39,
      "metadata": {
        "colab": {
          "base_uri": "https://localhost:8080/"
        },
        "id": "LooaoXgPm93v",
        "outputId": "5eae460c-adbd-47ae-d5e7-5d2e8be1fc8d"
      },
      "outputs": [
        {
          "output_type": "stream",
          "name": "stdout",
          "text": [
            "KNeighborsClassifier\n",
            "Accuracy: 0.9791433891992551\n",
            "              precision    recall  f1-score   support\n",
            "\n",
            "           0       0.98      0.99      0.99      4880\n",
            "           1       0.93      0.84      0.88       490\n",
            "\n",
            "    accuracy                           0.98      5370\n",
            "   macro avg       0.95      0.92      0.93      5370\n",
            "weighted avg       0.98      0.98      0.98      5370\n",
            "\n",
            "****************************************************************************************************\n",
            "SVC\n",
            "Accuracy: 0.9795158286778398\n",
            "              precision    recall  f1-score   support\n",
            "\n",
            "           0       0.98      0.99      0.99      4880\n",
            "           1       0.94      0.83      0.88       490\n",
            "\n",
            "    accuracy                           0.98      5370\n",
            "   macro avg       0.96      0.91      0.93      5370\n",
            "weighted avg       0.98      0.98      0.98      5370\n",
            "\n",
            "****************************************************************************************************\n",
            "GaussianNB\n",
            "Accuracy: 0.9437616387337058\n",
            "              precision    recall  f1-score   support\n",
            "\n",
            "           0       0.99      0.95      0.97      4880\n",
            "           1       0.64      0.87      0.74       490\n",
            "\n",
            "    accuracy                           0.94      5370\n",
            "   macro avg       0.81      0.91      0.85      5370\n",
            "weighted avg       0.95      0.94      0.95      5370\n",
            "\n",
            "****************************************************************************************************\n",
            "DecisionTreeClassifier\n",
            "Accuracy: 0.9661080074487896\n",
            "              precision    recall  f1-score   support\n",
            "\n",
            "           0       0.98      0.98      0.98      4880\n",
            "           1       0.81      0.82      0.82       490\n",
            "\n",
            "    accuracy                           0.97      5370\n",
            "   macro avg       0.90      0.90      0.90      5370\n",
            "weighted avg       0.97      0.97      0.97      5370\n",
            "\n",
            "****************************************************************************************************\n",
            "RandomForestClassifier\n",
            "Accuracy: 0.9798882681564246\n",
            "              precision    recall  f1-score   support\n",
            "\n",
            "           0       0.98      0.99      0.99      4880\n",
            "           1       0.93      0.84      0.88       490\n",
            "\n",
            "    accuracy                           0.98      5370\n",
            "   macro avg       0.96      0.92      0.94      5370\n",
            "weighted avg       0.98      0.98      0.98      5370\n",
            "\n",
            "****************************************************************************************************\n",
            "AdaBoostClassifier\n",
            "Accuracy: 0.9795158286778398\n",
            "              precision    recall  f1-score   support\n",
            "\n",
            "           0       0.98      0.99      0.99      4880\n",
            "           1       0.93      0.84      0.88       490\n",
            "\n",
            "    accuracy                           0.98      5370\n",
            "   macro avg       0.96      0.92      0.94      5370\n",
            "weighted avg       0.98      0.98      0.98      5370\n",
            "\n",
            "****************************************************************************************************\n"
          ]
        }
      ],
      "source": [
        "#Fixing classifiers using a for loop\n",
        "knn=KNeighborsClassifier()\n",
        "sv=SVC(random_state=1)\n",
        "gnb=GaussianNB()\n",
        "dtc=DecisionTreeClassifier(criterion=\"entropy\")\n",
        "rfc=RandomForestClassifier(n_estimators=50,criterion=\"entropy\",random_state=1)\n",
        "abc=AdaBoostClassifier(random_state=1)\n",
        "acc=[]\n",
        "models=[knn,sv,gnb,dtc,rfc,abc]\n",
        "for model in models:\n",
        "  print(model.__class__.__name__)\n",
        "  model.fit(X_train,y_train)\n",
        "  y_pred=model.predict(X_test)\n",
        "  print(\"Accuracy:\",accuracy_score(y_test,y_pred))\n",
        "  print(classification_report(y_test,y_pred))\n",
        "  acc.append(accuracy_score(y_test,y_pred))\n",
        "  print(\"*\"*100)"
      ]
    },
    {
      "cell_type": "code",
      "execution_count": 40,
      "metadata": {
        "id": "qEUBj2GFkgAm"
      },
      "outputs": [],
      "source": [
        "#Comparing the accuracy of the models and finding the highly accurate one.\n",
        "accuracy_before_resampling=pd.DataFrame({\"Model\":[\"KNearestNeighbors\",\"SVC\",\"GaussianNB\",\"DecisionTreeClassifier\",\"RandomForestClassifier\",\"AdaBoostClassifier\"],\"Accuracy\":acc})\n"
      ]
    },
    {
      "cell_type": "code",
      "execution_count": 41,
      "metadata": {
        "id": "O1yQbMlamhRk"
      },
      "outputs": [],
      "source": [
        "#Creating a function for highlighting the cell with maximum accuracy\n",
        "def highlight(x):\n",
        "  if x==max(accuracy_before_resampling[\"Accuracy\"]):\n",
        "    return \"background-color:blue;color:white;\"\n",
        "  else:\n",
        "    return \"\""
      ]
    },
    {
      "cell_type": "code",
      "execution_count": 42,
      "metadata": {
        "colab": {
          "base_uri": "https://localhost:8080/",
          "height": 238
        },
        "id": "1pS2Bv0TmiDq",
        "outputId": "ad7b6653-3a57-490c-cde2-ca178487b6b1"
      },
      "outputs": [
        {
          "output_type": "execute_result",
          "data": {
            "text/plain": [
              "<pandas.io.formats.style.Styler at 0x79d4728f3010>"
            ],
            "text/html": [
              "<style type=\"text/css\">\n",
              "#T_c17db_row4_col1 {\n",
              "  background-color: blue;\n",
              "  color: white;\n",
              "}\n",
              "</style>\n",
              "<table id=\"T_c17db\" class=\"dataframe\">\n",
              "  <thead>\n",
              "    <tr>\n",
              "      <th class=\"blank level0\" >&nbsp;</th>\n",
              "      <th id=\"T_c17db_level0_col0\" class=\"col_heading level0 col0\" >Model</th>\n",
              "      <th id=\"T_c17db_level0_col1\" class=\"col_heading level0 col1\" >Accuracy</th>\n",
              "    </tr>\n",
              "  </thead>\n",
              "  <tbody>\n",
              "    <tr>\n",
              "      <th id=\"T_c17db_level0_row0\" class=\"row_heading level0 row0\" >0</th>\n",
              "      <td id=\"T_c17db_row0_col0\" class=\"data row0 col0\" >KNearestNeighbors</td>\n",
              "      <td id=\"T_c17db_row0_col1\" class=\"data row0 col1\" >0.979143</td>\n",
              "    </tr>\n",
              "    <tr>\n",
              "      <th id=\"T_c17db_level0_row1\" class=\"row_heading level0 row1\" >1</th>\n",
              "      <td id=\"T_c17db_row1_col0\" class=\"data row1 col0\" >SVC</td>\n",
              "      <td id=\"T_c17db_row1_col1\" class=\"data row1 col1\" >0.979516</td>\n",
              "    </tr>\n",
              "    <tr>\n",
              "      <th id=\"T_c17db_level0_row2\" class=\"row_heading level0 row2\" >2</th>\n",
              "      <td id=\"T_c17db_row2_col0\" class=\"data row2 col0\" >GaussianNB</td>\n",
              "      <td id=\"T_c17db_row2_col1\" class=\"data row2 col1\" >0.943762</td>\n",
              "    </tr>\n",
              "    <tr>\n",
              "      <th id=\"T_c17db_level0_row3\" class=\"row_heading level0 row3\" >3</th>\n",
              "      <td id=\"T_c17db_row3_col0\" class=\"data row3 col0\" >DecisionTreeClassifier</td>\n",
              "      <td id=\"T_c17db_row3_col1\" class=\"data row3 col1\" >0.966108</td>\n",
              "    </tr>\n",
              "    <tr>\n",
              "      <th id=\"T_c17db_level0_row4\" class=\"row_heading level0 row4\" >4</th>\n",
              "      <td id=\"T_c17db_row4_col0\" class=\"data row4 col0\" >RandomForestClassifier</td>\n",
              "      <td id=\"T_c17db_row4_col1\" class=\"data row4 col1\" >0.979888</td>\n",
              "    </tr>\n",
              "    <tr>\n",
              "      <th id=\"T_c17db_level0_row5\" class=\"row_heading level0 row5\" >5</th>\n",
              "      <td id=\"T_c17db_row5_col0\" class=\"data row5 col0\" >AdaBoostClassifier</td>\n",
              "      <td id=\"T_c17db_row5_col1\" class=\"data row5 col1\" >0.979516</td>\n",
              "    </tr>\n",
              "  </tbody>\n",
              "</table>\n"
            ]
          },
          "metadata": {},
          "execution_count": 42
        }
      ],
      "source": [
        "#Comapring accuracies and finding the model with maximum accuracy using the 'highlight' function.\n",
        "accuracy_before_resampling.style.applymap(highlight)"
      ]
    },
    {
      "cell_type": "markdown",
      "metadata": {
        "id": "8U-SZfIMtSMS"
      },
      "source": [
        "It is observed that the RandomForestClassifier gives the maximum accuracy."
      ]
    },
    {
      "cell_type": "code",
      "execution_count": 43,
      "metadata": {
        "id": "5o0L_2CVteK6",
        "colab": {
          "base_uri": "https://localhost:8080/"
        },
        "outputId": "305b996d-56a4-4451-a753-af3aff62eebc"
      },
      "outputs": [
        {
          "output_type": "stream",
          "name": "stdout",
          "text": [
            "{'criterion': 'entropy', 'max_features': None, 'min_samples_split': 10, 'n_estimators': 30, 'random_state': 1}\n"
          ]
        }
      ],
      "source": [
        "#Hyper Tuning RandomForestClassifier\n",
        "params= {'n_estimators': [30,40,50],'min_samples_split':[2,5,10],'max_features':[None,'sqrt'],'criterion':['entropy','log_loss'],'random_state':[1]}\n",
        "clf=GridSearchCV(RandomForestClassifier(),params,cv=5,scoring='accuracy')\n",
        "clf.fit(X_train,y_train)\n",
        "print(clf.best_params_)"
      ]
    },
    {
      "cell_type": "code",
      "execution_count": 44,
      "metadata": {
        "colab": {
          "base_uri": "https://localhost:8080/"
        },
        "id": "zTAmVKD9fpUM",
        "outputId": "0c592c09-df02-4ad5-93df-ec61bf771e0d"
      },
      "outputs": [
        {
          "output_type": "stream",
          "name": "stdout",
          "text": [
            "0.9800744878957169\n",
            "              precision    recall  f1-score   support\n",
            "\n",
            "           0       0.98      0.99      0.99      4880\n",
            "           1       0.93      0.85      0.89       490\n",
            "\n",
            "    accuracy                           0.98      5370\n",
            "   macro avg       0.96      0.92      0.94      5370\n",
            "weighted avg       0.98      0.98      0.98      5370\n",
            "\n"
          ]
        }
      ],
      "source": [
        "#Evaluating the performance of the hyper tuned RandomForestClassifier\n",
        "rfc=RandomForestClassifier(criterion=\"entropy\",max_features=None,min_samples_split=10,n_estimators=30,random_state=1)\n",
        "rfc.fit(X_train,y_train)\n",
        "y_pred=rfc.predict(X_test)\n",
        "acc_aht=accuracy_score(y_test,y_pred)\n",
        "print(accuracy_score(y_test,y_pred))\n",
        "print(classification_report(y_test,y_pred))"
      ]
    },
    {
      "cell_type": "code",
      "execution_count": 45,
      "metadata": {
        "id": "Yuv8epLCkGjq"
      },
      "outputs": [],
      "source": [
        "#Creating a function for highlighting the cell with maximum accuracy\n",
        "def highlight(x):\n",
        "  if x==max(accuracy_comparission.iloc[0]):\n",
        "    return \"background-color:blue;color:white;\"\n",
        "  else:\n",
        "    return \"\""
      ]
    },
    {
      "cell_type": "code",
      "execution_count": 46,
      "metadata": {
        "colab": {
          "base_uri": "https://localhost:8080/",
          "height": 81
        },
        "id": "WpnWvnRGhKNg",
        "outputId": "83d48cd1-9a1c-4a2a-d8f9-2c2dd5293252"
      },
      "outputs": [
        {
          "output_type": "execute_result",
          "data": {
            "text/plain": [
              "<pandas.io.formats.style.Styler at 0x79d4728f3760>"
            ],
            "text/html": [
              "<style type=\"text/css\">\n",
              "#T_fa5cd_row0_col1 {\n",
              "  background-color: blue;\n",
              "  color: white;\n",
              "}\n",
              "</style>\n",
              "<table id=\"T_fa5cd\" class=\"dataframe\">\n",
              "  <thead>\n",
              "    <tr>\n",
              "      <th class=\"blank level0\" >&nbsp;</th>\n",
              "      <th id=\"T_fa5cd_level0_col0\" class=\"col_heading level0 col0\" >Accuracy Before Hypertuning</th>\n",
              "      <th id=\"T_fa5cd_level0_col1\" class=\"col_heading level0 col1\" >Accuracy After Hypertuning</th>\n",
              "    </tr>\n",
              "  </thead>\n",
              "  <tbody>\n",
              "    <tr>\n",
              "      <th id=\"T_fa5cd_level0_row0\" class=\"row_heading level0 row0\" >0</th>\n",
              "      <td id=\"T_fa5cd_row0_col0\" class=\"data row0 col0\" >0.979888</td>\n",
              "      <td id=\"T_fa5cd_row0_col1\" class=\"data row0 col1\" >0.980074</td>\n",
              "    </tr>\n",
              "  </tbody>\n",
              "</table>\n"
            ]
          },
          "metadata": {},
          "execution_count": 46
        }
      ],
      "source": [
        "#Comparing the accuracies of RandomForestClassifier models before and after hypertuning.\n",
        "accuracy_comparission=pd.DataFrame([[accuracy_before_resampling.iloc[4,1],acc_aht]],columns=[\"Accuracy Before Hypertuning\",\"Accuracy After Hypertuning\"])\n",
        "accuracy_comparission.style.applymap(highlight)"
      ]
    },
    {
      "cell_type": "markdown",
      "metadata": {
        "id": "MKeI-HXtYxVs"
      },
      "source": [
        "It is clear that the accuracy of the RandomForestClassifier model has increased, little a bit, after hypertuning."
      ]
    },
    {
      "cell_type": "code",
      "execution_count": 47,
      "metadata": {
        "id": "9b9MDMW3ZSCg"
      },
      "outputs": [],
      "source": [
        "#Updating the accuracy of the RandomForestClassifier model with that of the hypertuned model.\n",
        "acc[4]=acc_aht"
      ]
    },
    {
      "cell_type": "markdown",
      "metadata": {
        "id": "nVE16Sm2bUpr"
      },
      "source": [
        "Now, we go for resampling.\n",
        "Since the dataset is highly imbalanced, neigther over sampling nor under samling would give us a better result.\n",
        "So, we go for the middle-line of the above preocedures. That is, doing both over sampling and under sampling.\n",
        "We use SMOTEENN for this purpose."
      ]
    },
    {
      "cell_type": "code",
      "execution_count": 48,
      "metadata": {
        "id": "6uJBh_S8dZiD"
      },
      "outputs": [],
      "source": [
        "#Resampling using SMOTEENN\n",
        "sm=SMOTEENN(random_state=1)\n",
        "X_train,y_train=sm.fit_resample(X_train,y_train)"
      ]
    },
    {
      "cell_type": "code",
      "execution_count": 49,
      "metadata": {
        "colab": {
          "base_uri": "https://localhost:8080/"
        },
        "id": "vTvKlyn5fUF-",
        "outputId": "be423727-1537-4621-bb7f-d5339610ebc8"
      },
      "outputs": [
        {
          "output_type": "stream",
          "name": "stdout",
          "text": [
            "KNeighborsClassifier\n",
            "              precision    recall  f1-score   support\n",
            "\n",
            "           0       0.99      0.94      0.97      4880\n",
            "           1       0.62      0.92      0.74       490\n",
            "\n",
            "    accuracy                           0.94      5370\n",
            "   macro avg       0.81      0.93      0.86      5370\n",
            "weighted avg       0.96      0.94      0.95      5370\n",
            "\n",
            "****************************************************************************************************\n",
            "SVC\n",
            "              precision    recall  f1-score   support\n",
            "\n",
            "           0       0.99      0.97      0.98      4880\n",
            "           1       0.77      0.92      0.84       490\n",
            "\n",
            "    accuracy                           0.97      5370\n",
            "   macro avg       0.88      0.95      0.91      5370\n",
            "weighted avg       0.97      0.97      0.97      5370\n",
            "\n",
            "****************************************************************************************************\n",
            "GaussianNB\n",
            "              precision    recall  f1-score   support\n",
            "\n",
            "           0       0.99      0.94      0.96      4880\n",
            "           1       0.59      0.89      0.71       490\n",
            "\n",
            "    accuracy                           0.93      5370\n",
            "   macro avg       0.79      0.91      0.84      5370\n",
            "weighted avg       0.95      0.93      0.94      5370\n",
            "\n",
            "****************************************************************************************************\n",
            "DecisionTreeClassifier\n",
            "              precision    recall  f1-score   support\n",
            "\n",
            "           0       0.99      0.95      0.97      4880\n",
            "           1       0.65      0.92      0.76       490\n",
            "\n",
            "    accuracy                           0.95      5370\n",
            "   macro avg       0.82      0.94      0.87      5370\n",
            "weighted avg       0.96      0.95      0.95      5370\n",
            "\n",
            "****************************************************************************************************\n",
            "RandomForestClassifier\n",
            "              precision    recall  f1-score   support\n",
            "\n",
            "           0       0.99      0.97      0.98      4880\n",
            "           1       0.78      0.92      0.84       490\n",
            "\n",
            "    accuracy                           0.97      5370\n",
            "   macro avg       0.88      0.95      0.91      5370\n",
            "weighted avg       0.97      0.97      0.97      5370\n",
            "\n",
            "****************************************************************************************************\n",
            "AdaBoostClassifier\n",
            "              precision    recall  f1-score   support\n",
            "\n",
            "           0       0.99      0.96      0.98      4880\n",
            "           1       0.70      0.92      0.80       490\n",
            "\n",
            "    accuracy                           0.96      5370\n",
            "   macro avg       0.85      0.94      0.89      5370\n",
            "weighted avg       0.97      0.96      0.96      5370\n",
            "\n",
            "****************************************************************************************************\n"
          ]
        }
      ],
      "source": [
        "#Fitting models to the resampled dataset and comparing the performance.\n",
        "acc_rs=[]\n",
        "for model in models:\n",
        "  print(model.__class__.__name__)\n",
        "  model.fit(X_train,y_train)\n",
        "  y_pred=model.predict(X_test)\n",
        "  print(classification_report(y_test,y_pred))\n",
        "  acc_rs.append(accuracy_score(y_test,y_pred))\n",
        "  print(\"*\"*100)"
      ]
    },
    {
      "cell_type": "code",
      "execution_count": 50,
      "metadata": {
        "colab": {
          "base_uri": "https://localhost:8080/",
          "height": 238
        },
        "id": "5ZVm5WbLXPEc",
        "outputId": "b83de419-f9d7-42dc-8b2d-e278afb85ebf"
      },
      "outputs": [
        {
          "output_type": "execute_result",
          "data": {
            "text/plain": [
              "                    Model  Accuracy Before Resampling  \\\n",
              "0       KNearestNeighbors                    0.979143   \n",
              "1                     SVC                    0.979516   \n",
              "2              GaussianNB                    0.943762   \n",
              "3  DecisionTreeClassifier                    0.966108   \n",
              "4  RandomForestClassifier                    0.980074   \n",
              "5      AdaBoostClassifier                    0.979516   \n",
              "\n",
              "   Accuracy After Resampling  \n",
              "0                   0.941899  \n",
              "1                   0.968343  \n",
              "2                   0.933333  \n",
              "3                   0.948045  \n",
              "4                   0.968529  \n",
              "5                   0.956611  "
            ],
            "text/html": [
              "\n",
              "\n",
              "  <div id=\"df-b7ca355d-21d4-4ef0-b339-94f746f3169b\">\n",
              "    <div class=\"colab-df-container\">\n",
              "      <div>\n",
              "<style scoped>\n",
              "    .dataframe tbody tr th:only-of-type {\n",
              "        vertical-align: middle;\n",
              "    }\n",
              "\n",
              "    .dataframe tbody tr th {\n",
              "        vertical-align: top;\n",
              "    }\n",
              "\n",
              "    .dataframe thead th {\n",
              "        text-align: right;\n",
              "    }\n",
              "</style>\n",
              "<table border=\"1\" class=\"dataframe\">\n",
              "  <thead>\n",
              "    <tr style=\"text-align: right;\">\n",
              "      <th></th>\n",
              "      <th>Model</th>\n",
              "      <th>Accuracy Before Resampling</th>\n",
              "      <th>Accuracy After Resampling</th>\n",
              "    </tr>\n",
              "  </thead>\n",
              "  <tbody>\n",
              "    <tr>\n",
              "      <th>0</th>\n",
              "      <td>KNearestNeighbors</td>\n",
              "      <td>0.979143</td>\n",
              "      <td>0.941899</td>\n",
              "    </tr>\n",
              "    <tr>\n",
              "      <th>1</th>\n",
              "      <td>SVC</td>\n",
              "      <td>0.979516</td>\n",
              "      <td>0.968343</td>\n",
              "    </tr>\n",
              "    <tr>\n",
              "      <th>2</th>\n",
              "      <td>GaussianNB</td>\n",
              "      <td>0.943762</td>\n",
              "      <td>0.933333</td>\n",
              "    </tr>\n",
              "    <tr>\n",
              "      <th>3</th>\n",
              "      <td>DecisionTreeClassifier</td>\n",
              "      <td>0.966108</td>\n",
              "      <td>0.948045</td>\n",
              "    </tr>\n",
              "    <tr>\n",
              "      <th>4</th>\n",
              "      <td>RandomForestClassifier</td>\n",
              "      <td>0.980074</td>\n",
              "      <td>0.968529</td>\n",
              "    </tr>\n",
              "    <tr>\n",
              "      <th>5</th>\n",
              "      <td>AdaBoostClassifier</td>\n",
              "      <td>0.979516</td>\n",
              "      <td>0.956611</td>\n",
              "    </tr>\n",
              "  </tbody>\n",
              "</table>\n",
              "</div>\n",
              "      <button class=\"colab-df-convert\" onclick=\"convertToInteractive('df-b7ca355d-21d4-4ef0-b339-94f746f3169b')\"\n",
              "              title=\"Convert this dataframe to an interactive table.\"\n",
              "              style=\"display:none;\">\n",
              "\n",
              "  <svg xmlns=\"http://www.w3.org/2000/svg\" height=\"24px\"viewBox=\"0 0 24 24\"\n",
              "       width=\"24px\">\n",
              "    <path d=\"M0 0h24v24H0V0z\" fill=\"none\"/>\n",
              "    <path d=\"M18.56 5.44l.94 2.06.94-2.06 2.06-.94-2.06-.94-.94-2.06-.94 2.06-2.06.94zm-11 1L8.5 8.5l.94-2.06 2.06-.94-2.06-.94L8.5 2.5l-.94 2.06-2.06.94zm10 10l.94 2.06.94-2.06 2.06-.94-2.06-.94-.94-2.06-.94 2.06-2.06.94z\"/><path d=\"M17.41 7.96l-1.37-1.37c-.4-.4-.92-.59-1.43-.59-.52 0-1.04.2-1.43.59L10.3 9.45l-7.72 7.72c-.78.78-.78 2.05 0 2.83L4 21.41c.39.39.9.59 1.41.59.51 0 1.02-.2 1.41-.59l7.78-7.78 2.81-2.81c.8-.78.8-2.07 0-2.86zM5.41 20L4 18.59l7.72-7.72 1.47 1.35L5.41 20z\"/>\n",
              "  </svg>\n",
              "      </button>\n",
              "\n",
              "\n",
              "\n",
              "    <div id=\"df-568a17f5-b6b1-40cf-a4b7-0f8cadc63b3a\">\n",
              "      <button class=\"colab-df-quickchart\" onclick=\"quickchart('df-568a17f5-b6b1-40cf-a4b7-0f8cadc63b3a')\"\n",
              "              title=\"Suggest charts.\"\n",
              "              style=\"display:none;\">\n",
              "\n",
              "<svg xmlns=\"http://www.w3.org/2000/svg\" height=\"24px\"viewBox=\"0 0 24 24\"\n",
              "     width=\"24px\">\n",
              "    <g>\n",
              "        <path d=\"M19 3H5c-1.1 0-2 .9-2 2v14c0 1.1.9 2 2 2h14c1.1 0 2-.9 2-2V5c0-1.1-.9-2-2-2zM9 17H7v-7h2v7zm4 0h-2V7h2v10zm4 0h-2v-4h2v4z\"/>\n",
              "    </g>\n",
              "</svg>\n",
              "      </button>\n",
              "    </div>\n",
              "\n",
              "<style>\n",
              "  .colab-df-quickchart {\n",
              "    background-color: #E8F0FE;\n",
              "    border: none;\n",
              "    border-radius: 50%;\n",
              "    cursor: pointer;\n",
              "    display: none;\n",
              "    fill: #1967D2;\n",
              "    height: 32px;\n",
              "    padding: 0 0 0 0;\n",
              "    width: 32px;\n",
              "  }\n",
              "\n",
              "  .colab-df-quickchart:hover {\n",
              "    background-color: #E2EBFA;\n",
              "    box-shadow: 0px 1px 2px rgba(60, 64, 67, 0.3), 0px 1px 3px 1px rgba(60, 64, 67, 0.15);\n",
              "    fill: #174EA6;\n",
              "  }\n",
              "\n",
              "  [theme=dark] .colab-df-quickchart {\n",
              "    background-color: #3B4455;\n",
              "    fill: #D2E3FC;\n",
              "  }\n",
              "\n",
              "  [theme=dark] .colab-df-quickchart:hover {\n",
              "    background-color: #434B5C;\n",
              "    box-shadow: 0px 1px 3px 1px rgba(0, 0, 0, 0.15);\n",
              "    filter: drop-shadow(0px 1px 2px rgba(0, 0, 0, 0.3));\n",
              "    fill: #FFFFFF;\n",
              "  }\n",
              "</style>\n",
              "\n",
              "    <script>\n",
              "      async function quickchart(key) {\n",
              "        const containerElement = document.querySelector('#' + key);\n",
              "        const charts = await google.colab.kernel.invokeFunction(\n",
              "            'suggestCharts', [key], {});\n",
              "      }\n",
              "    </script>\n",
              "\n",
              "      <script>\n",
              "\n",
              "function displayQuickchartButton(domScope) {\n",
              "  let quickchartButtonEl =\n",
              "    domScope.querySelector('#df-568a17f5-b6b1-40cf-a4b7-0f8cadc63b3a button.colab-df-quickchart');\n",
              "  quickchartButtonEl.style.display =\n",
              "    google.colab.kernel.accessAllowed ? 'block' : 'none';\n",
              "}\n",
              "\n",
              "        displayQuickchartButton(document);\n",
              "      </script>\n",
              "      <style>\n",
              "    .colab-df-container {\n",
              "      display:flex;\n",
              "      flex-wrap:wrap;\n",
              "      gap: 12px;\n",
              "    }\n",
              "\n",
              "    .colab-df-convert {\n",
              "      background-color: #E8F0FE;\n",
              "      border: none;\n",
              "      border-radius: 50%;\n",
              "      cursor: pointer;\n",
              "      display: none;\n",
              "      fill: #1967D2;\n",
              "      height: 32px;\n",
              "      padding: 0 0 0 0;\n",
              "      width: 32px;\n",
              "    }\n",
              "\n",
              "    .colab-df-convert:hover {\n",
              "      background-color: #E2EBFA;\n",
              "      box-shadow: 0px 1px 2px rgba(60, 64, 67, 0.3), 0px 1px 3px 1px rgba(60, 64, 67, 0.15);\n",
              "      fill: #174EA6;\n",
              "    }\n",
              "\n",
              "    [theme=dark] .colab-df-convert {\n",
              "      background-color: #3B4455;\n",
              "      fill: #D2E3FC;\n",
              "    }\n",
              "\n",
              "    [theme=dark] .colab-df-convert:hover {\n",
              "      background-color: #434B5C;\n",
              "      box-shadow: 0px 1px 3px 1px rgba(0, 0, 0, 0.15);\n",
              "      filter: drop-shadow(0px 1px 2px rgba(0, 0, 0, 0.3));\n",
              "      fill: #FFFFFF;\n",
              "    }\n",
              "  </style>\n",
              "\n",
              "      <script>\n",
              "        const buttonEl =\n",
              "          document.querySelector('#df-b7ca355d-21d4-4ef0-b339-94f746f3169b button.colab-df-convert');\n",
              "        buttonEl.style.display =\n",
              "          google.colab.kernel.accessAllowed ? 'block' : 'none';\n",
              "\n",
              "        async function convertToInteractive(key) {\n",
              "          const element = document.querySelector('#df-b7ca355d-21d4-4ef0-b339-94f746f3169b');\n",
              "          const dataTable =\n",
              "            await google.colab.kernel.invokeFunction('convertToInteractive',\n",
              "                                                     [key], {});\n",
              "          if (!dataTable) return;\n",
              "\n",
              "          const docLinkHtml = 'Like what you see? Visit the ' +\n",
              "            '<a target=\"_blank\" href=https://colab.research.google.com/notebooks/data_table.ipynb>data table notebook</a>'\n",
              "            + ' to learn more about interactive tables.';\n",
              "          element.innerHTML = '';\n",
              "          dataTable['output_type'] = 'display_data';\n",
              "          await google.colab.output.renderOutput(dataTable, element);\n",
              "          const docLink = document.createElement('div');\n",
              "          docLink.innerHTML = docLinkHtml;\n",
              "          element.appendChild(docLink);\n",
              "        }\n",
              "      </script>\n",
              "    </div>\n",
              "  </div>\n"
            ]
          },
          "metadata": {},
          "execution_count": 50
        }
      ],
      "source": [
        "#Comparing the accuracies of the models before and after resampling.\n",
        "accuracy=pd.DataFrame({\"Model\":[\"KNearestNeighbors\",\"SVC\",\"GaussianNB\",\"DecisionTreeClassifier\",\"RandomForestClassifier\",\"AdaBoostClassifier\"],\"Accuracy Before Resampling\":acc,\"Accuracy After Resampling\":acc_rs})\n",
        "accuracy"
      ]
    },
    {
      "cell_type": "markdown",
      "metadata": {
        "id": "f3_wh3hggpuk"
      },
      "source": [
        "It is observed that the accuracy of the models has reduced after resampling.\n",
        "Also, it may be concluded that the hyper tuned RandomForestClassifier performs better as compared to others, on the original dataset, with an accuracy of around 0.980074."
      ]
    }
  ],
  "metadata": {
    "colab": {
      "provenance": []
    },
    "kernelspec": {
      "display_name": "Python 3",
      "name": "python3"
    },
    "language_info": {
      "name": "python"
    }
  },
  "nbformat": 4,
  "nbformat_minor": 0
}